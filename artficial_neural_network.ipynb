{
  "nbformat": 4,
  "nbformat_minor": 0,
  "metadata": {
    "colab": {
      "provenance": []
    },
    "kernelspec": {
      "name": "python3",
      "display_name": "Python 3"
    },
    "language_info": {
      "name": "python"
    }
  },
  "cells": [
    {
      "cell_type": "markdown",
      "source": [
        "¿Se podra utilizar una red neuronal para transformasr los minutos a horas?\n",
        "Esta es la pregunta que nos planteamos y que a continuacion veriguaremos si es posible o no"
      ],
      "metadata": {
        "id": "khUN9I_hAX5H"
      }
    },
    {
      "cell_type": "code",
      "source": [
        "import tensorflow as tf\n",
        "import numpy as np"
      ],
      "metadata": {
        "id": "ysIGFQcimkYY"
      },
      "execution_count": null,
      "outputs": []
    },
    {
      "cell_type": "code",
      "execution_count": null,
      "metadata": {
        "id": "uVmtXsmqmN2V"
      },
      "outputs": [],
      "source": [
        "#conectar drive con colab para leer archivos desde nuestro google drive e importar libreria pandas lo que nos permite leer el archivo de datos\n",
        "from google.colab import drive\n",
        "import pandas as pd\n",
        "#drive.mount('/content/drive')\n",
        "#importar libreria  matplotlib\n",
        "from matplotlib import pyplot as plt"
      ]
    },
    {
      "cell_type": "code",
      "source": [
        "#En esta celda abriremos drive y los datos de entrada quedaran en el codigo. \n",
        "minutos = np.array([60, 180, 500, 1500, 10500, 40, 300, 5000, 240, 600], dtype=float)\n",
        "horas = np.array([1, 3,\t8.3, 25,\t175,\t0.6 ,\t5,\t83.3,\t4, 10], dtype=float)\n",
        "plt.scatter(minutos,horas)\n",
        "plt.show()"
      ],
      "metadata": {
        "colab": {
          "base_uri": "https://localhost:8080/",
          "height": 265
        },
        "id": "luklUULCmbgg",
        "outputId": "5b0e0803-895e-4334-bf15-6473e545985c"
      },
      "execution_count": null,
      "outputs": [
        {
          "output_type": "display_data",
          "data": {
            "text/plain": [
              "<Figure size 432x288 with 1 Axes>"
            ],
            "image/png": "[encoded data removed]"
          },
          "metadata": {
            "needs_background": "light"
          }
        }
      ]
    },
    {
      "cell_type": "code",
      "source": [
        "# units = Cantidad neuronas de la capa de salida\n",
        "# input_shape = Cantidad de neuronas de entrada\n",
        "capa = tf.keras.layers.Dense(units=1, input_shape=[1])\n",
        "\n",
        "# Modelo de tipo Secuencial\n",
        "modelo = tf.keras.Sequential([capa])"
      ],
      "metadata": {
        "id": "KnH6SK1fnN9Q"
      },
      "execution_count": null,
      "outputs": []
    },
    {
      "cell_type": "code",
      "source": [
        "modelo.compile(\n",
        "    # Adam recibe un parámetro que corresponde a la tasa de aprendizaje.\n",
        "    # Al cambiar este valor se puede ir variando la cantidad para que sea\n",
        "    # adecuada al resultado deseado.(Si es muy pequeño puede tomar más tiempo\n",
        "    # entrenar al modelo, si es muy grande puede arrojar valores fuera de rango)\n",
        "    optimizer=tf.keras.optimizers.Adam(0.1),\n",
        "    # Función de pérdida, error cuadrático medio\n",
        "    # Una poca cantidad de errores grandes\n",
        "    # es peor que una gran cantidad de errores pequeños\n",
        "    loss='mean_squared_error'\n",
        " )"
      ],
      "metadata": {
        "id": "K50raSHWny9E"
      },
      "execution_count": null,
      "outputs": []
    },
    {
      "cell_type": "code",
      "source": [
        "#Con esto se podran ajustar las epocas y el modelo empezara a entrenar.\n",
        "print(\"Comenzando entrenamiento ...\")\n",
        "historial = modelo.fit(minutos, horas, epochs=1000, verbose=False)\n",
        "print(\"Modelo entrenado!\")"
      ],
      "metadata": {
        "id": "1Y4iM2Mz4rme",
        "outputId": "61c8801c-ac4a-4319-970d-c859c17e16b1",
        "colab": {
          "base_uri": "https://localhost:8080/"
        }
      },
      "execution_count": null,
      "outputs": [
        {
          "output_type": "stream",
          "name": "stdout",
          "text": [
            "Comenzando entrenamiento ...\n",
            "Modelo entrenado!\n"
          ]
        }
      ]
    },
    {
      "cell_type": "code",
      "source": [
        "#Con esto se generara el grafico con las epocas que pusimos en el codigo anterior.\n",
        "import matplotlib.pyplot as plt\n",
        "plt.xlabel(\"# Epocas\")\n",
        "plt.ylabel(\"Magnitud de perdidas\")\n",
        "plt.plot(historial.history[\"loss\"])"
      ],
      "metadata": {
        "colab": {
          "base_uri": "https://localhost:8080/",
          "height": 296
        },
        "id": "LoKvI5y-5ocE",
        "outputId": "01cf7ca3-bf04-47c4-ee61-30befc44d2ae"
      },
      "execution_count": null,
      "outputs": [
        {
          "output_type": "execute_result",
          "data": {
            "text/plain": [
              "[<matplotlib.lines.Line2D at 0x7fc74ebac050>]"
            ]
          },
          "metadata": {},
          "execution_count": 31
        },
        {
          "output_type": "display_data",
          "data": {
            "text/plain": [
              "<Figure size 432x288 with 1 Axes>"
            ],
            "image/png": "[encoded data removed]"
          },
          "metadata": {
            "needs_background": "light"
          }
        }
      ]
    },
    {
      "cell_type": "code",
      "source": [
        "#Con esto se hara una prediccion sobre lo que deseamos saber o buscar.\n",
        "print(\"Hagamos una predicción!\")\n",
        "resultado = modelo.predict([60])\n",
        "print(\"En total son \" + str(resultado) + \" horas!\")"
      ],
      "metadata": {
        "colab": {
          "base_uri": "https://localhost:8080/"
        },
        "id": "bYJ-UkXe6zNM",
        "outputId": "03fbddeb-09c6-4c28-f08c-168fd995fed4"
      },
      "execution_count": null,
      "outputs": [
        {
          "output_type": "stream",
          "name": "stdout",
          "text": [
            "Hagamos una predicción!\n",
            "En total son [[0.9854825]] horas!\n"
          ]
        }
      ]
    },
    {
      "cell_type": "code",
      "source": [
        "#Aca colocamos los datos que utilizaremos\n",
        "minutos = np.array([30, 120, 100, 3000, 40000 ], dtype=float)\n",
        "horas = np.array([0.5, 2, 1.6, 50,\t666.6], dtype=float)\n",
        "plt.scatter(minutos,horas)\n",
        "plt.show()"
      ],
      "metadata": {
        "id": "ZdCNaRD-Vge0",
        "colab": {
          "base_uri": "https://localhost:8080/",
          "height": 265
        },
        "outputId": "b4628285-a214-4251-88dc-452985840d58"
      },
      "execution_count": null,
      "outputs": [
        {
          "output_type": "display_data",
          "data": {
            "text/plain": [
              "<Figure size 432x288 with 1 Axes>"
            ],
            "image/png": "[encoded data removed]"
          },
          "metadata": {
            "needs_background": "light"
          }
        }
      ]
    },
    {
      "cell_type": "code",
      "source": [
        "# units = Cantidad neuronas de la capa de salida\n",
        "# input_shape = Cantidad de neuronas de entrada\n",
        "capa = tf.keras.layers.Dense(units=1, input_shape=[1])\n",
        "\n",
        "# Modelo de tipo Secuencial\n",
        "modelo = tf.keras.Sequential([capa])"
      ],
      "metadata": {
        "id": "D6VvVczbVgiG"
      },
      "execution_count": null,
      "outputs": []
    },
    {
      "cell_type": "code",
      "source": [
        "modelo.compile(\n",
        "    # Adam recibe un parámetro que corresponde a la tasa de aprendizaje.\n",
        "    # Al cambiar este valor se puede ir variando la cantidad para que sea\n",
        "    # adecuada al resultado deseado.(Si es muy pequeño puede tomar más tiempo\n",
        "    # entrenar al modelo, si es muy grande puede arrojar valores fuera de rango)\n",
        "    optimizer=tf.keras.optimizers.Adam(0.5),\n",
        "    # Función de pérdida, error cuadrático medio\n",
        "    # Una poca cantidad de errores grandes\n",
        "    # es peor que una gran cantidad de errores pequeños\n",
        "    loss='mean_squared_error'\n",
        " )"
      ],
      "metadata": {
        "id": "Y_sCSjyQVglj"
      },
      "execution_count": null,
      "outputs": []
    },
    {
      "cell_type": "code",
      "source": [
        "#Con esto se podran ajustar las epocas y el modelo empezara a entrenar.\n",
        "print(\"Comenzando entrenamiento ...\")\n",
        "historial = modelo.fit(minutos, horas, epochs=1000, verbose=False)\n",
        "print(\"Modelo entrenado!\")"
      ],
      "metadata": {
        "id": "EdTBdjaWVgoL",
        "colab": {
          "base_uri": "https://localhost:8080/"
        },
        "outputId": "ed07d3fd-dece-4b39-ac5e-2f6aac8716b2"
      },
      "execution_count": null,
      "outputs": [
        {
          "output_type": "stream",
          "name": "stdout",
          "text": [
            "Comenzando entrenamiento ...\n",
            "Modelo entrenado!\n"
          ]
        }
      ]
    },
    {
      "cell_type": "code",
      "source": [
        "#Con esto se generara el grafico con las epocas que pusimos en el codigo anterior.\n",
        "import matplotlib.pyplot as plt\n",
        "plt.xlabel(\"# Epocas\")\n",
        "plt.ylabel(\"Magnitud de pérdida\")\n",
        "plt.plot(historial.history[\"loss\"])"
      ],
      "metadata": {
        "id": "XjNhoLloVgrE",
        "colab": {
          "base_uri": "https://localhost:8080/",
          "height": 307
        },
        "outputId": "737a8eab-2e98-428c-8d77-e267bb04e7dd"
      },
      "execution_count": null,
      "outputs": [
        {
          "output_type": "execute_result",
          "data": {
            "text/plain": [
              "[<matplotlib.lines.Line2D at 0x7fc749c43a10>]"
            ]
          },
          "metadata": {},
          "execution_count": 45
        },
        {
          "output_type": "display_data",
          "data": {
            "text/plain": [
              "<Figure size 432x288 with 1 Axes>"
            ],
            "image/png": "[encoded data removed]"
          },
          "metadata": {
            "needs_background": "light"
          }
        }
      ]
    },
    {
      "cell_type": "code",
      "source": [
        "#Con esto se hara una prediccion sobre lo que deseamos saber o buscar.\n",
        "print(\"Hagamos una predicción!\")\n",
        "resultado = modelo.predict([30])\n",
        "print(\"En total son \" + str(resultado) + \" horas!\") "
      ],
      "metadata": {
        "id": "01j9TOa5XT2m",
        "colab": {
          "base_uri": "https://localhost:8080/"
        },
        "outputId": "5eb253d4-6544-4e71-b3a3-eb88314675c1"
      },
      "execution_count": null,
      "outputs": [
        {
          "output_type": "stream",
          "name": "stdout",
          "text": [
            "Hagamos una predicción!\n",
            "En total son [[0.48736337]] horas!\n"
          ]
        }
      ]
    },
    {
      "cell_type": "code",
      "source": [
        "# units = Cantidad neuronas de la capa de salida\n",
        "# input_shape = Cantidad de neuronas de entrada\n",
        "capa = tf.keras.layers.Dense(units=3, input_shape=[1])\n",
        "\n",
        "# Modelo de tipo Secuencial\n",
        "modelo = tf.keras.Sequential([capa])"
      ],
      "metadata": {
        "id": "hYC0aDAkdXeq"
      },
      "execution_count": null,
      "outputs": []
    },
    {
      "cell_type": "code",
      "source": [
        "modelo.compile(\n",
        "    # Adam recibe un parámetro que corresponde a la tasa de aprendizaje.\n",
        "    # Al cambiar este valor se puede ir variando la cantidad para que sea\n",
        "    # adecuada al resultado deseado.(Si es muy pequeño puede tomar más tiempo\n",
        "    # entrenar al modelo, si es muy grande puede arrojar valores fuera de rango)\n",
        "    optimizer=tf.keras.optimizers.Adam(1.0),\n",
        "    # Función de pérdida, error cuadrático medio\n",
        "    # Una poca cantidad de errores grandes\n",
        "    # es peor que una gran cantidad de errores pequeños\n",
        "    loss='mean_squared_error'\n",
        " )"
      ],
      "metadata": {
        "id": "XeuwiI41dXhO"
      },
      "execution_count": null,
      "outputs": []
    },
    {
      "cell_type": "code",
      "source": [
        "#Con esto se podran ajustar las epocas y el modelo empezara a entrenar.\n",
        "print(\"Comenzando entrenamiento ...\")\n",
        "historial = modelo.fit(minutos, horas, epochs=1000, verbose=False)\n",
        "print(\"Modelo entrenado!\")"
      ],
      "metadata": {
        "colab": {
          "base_uri": "https://localhost:8080/"
        },
        "id": "P0PWMHp1dXkE",
        "outputId": "8c9b52db-687f-4da7-8969-8f457706a23e"
      },
      "execution_count": null,
      "outputs": [
        {
          "output_type": "stream",
          "name": "stdout",
          "text": [
            "Comenzando entrenamiento ...\n",
            "Modelo entrenado!\n"
          ]
        }
      ]
    },
    {
      "cell_type": "code",
      "source": [
        "#Con esto se generara el grafico con las epocas que pusimos en el codigo anterior.\n",
        "import matplotlib.pyplot as plt\n",
        "plt.xlabel(\"# Epocas\")\n",
        "plt.ylabel(\"Magnitud de pérdida\")\n",
        "plt.plot(historial.history[\"loss\"])"
      ],
      "metadata": {
        "colab": {
          "base_uri": "https://localhost:8080/",
          "height": 307
        },
        "id": "uNmCnYa0dXmm",
        "outputId": "580b9845-78c9-47a5-84b4-0e41f87f2ea5"
      },
      "execution_count": null,
      "outputs": [
        {
          "output_type": "execute_result",
          "data": {
            "text/plain": [
              "[<matplotlib.lines.Line2D at 0x7fc748180610>]"
            ]
          },
          "metadata": {},
          "execution_count": 51
        },
        {
          "output_type": "display_data",
          "data": {
            "text/plain": [
              "<Figure size 432x288 with 1 Axes>"
            ],
            "image/png": "[encoded data removed]"
          },
          "metadata": {
            "needs_background": "light"
          }
        }
      ]
    },
    {
      "cell_type": "code",
      "source": [
        "#Con esto se hara una prediccion sobre lo que deseamos saber o buscar.\n",
        "print(\"Hagamos una predicción!\")\n",
        "resultado = modelo.predict([ 120])\n",
        "print(\"En total son \" + str(resultado) + \" horas!\") "
      ],
      "metadata": {
        "colab": {
          "base_uri": "https://localhost:8080/"
        },
        "id": "TvVsrvr1dXpO",
        "outputId": "68a34809-d524-4efb-abf5-3cc89bad1376"
      },
      "execution_count": null,
      "outputs": [
        {
          "output_type": "stream",
          "name": "stdout",
          "text": [
            "Hagamos una predicción!\n",
            "En total son [[1.9375257 2.1290648 1.9991566]] horas!\n"
          ]
        }
      ]
    },
    {
      "cell_type": "code",
      "source": [
        "# units = Cantidad neuronas de la capa de salida\n",
        "# input_shape = Cantidad de neuronas de entrada\n",
        "capa = tf.keras.layers.Dense(units=5, input_shape=[1])\n",
        "\n",
        "# Modelo de tipo Secuencial\n",
        "modelo = tf.keras.Sequential([capa])"
      ],
      "metadata": {
        "id": "3xGqIBPueI7y"
      },
      "execution_count": null,
      "outputs": []
    },
    {
      "cell_type": "code",
      "source": [
        "modelo.compile(\n",
        "    # Adam recibe un parámetro que corresponde a la tasa de aprendizaje.\n",
        "    # Al cambiar este valor se puede ir variando la cantidad para que sea\n",
        "    # adecuada al resultado deseado.(Si es muy pequeño puede tomar más tiempo\n",
        "    # entrenar al modelo, si es muy grande puede arrojar valores fuera de rango)\n",
        "    optimizer=tf.keras.optimizers.Adam(0.7),\n",
        "    # Función de pérdida, error cuadrático medio\n",
        "    # Una poca cantidad de errores grandes\n",
        "    # es peor que una gran cantidad de errores pequeños\n",
        "    loss='mean_squared_error'\n",
        " )"
      ],
      "metadata": {
        "id": "kJ6RYnCheI-O"
      },
      "execution_count": null,
      "outputs": []
    },
    {
      "cell_type": "code",
      "source": [
        "#Con esto se podran ajustar las epocas y el modelo empezara a entrenar.\n",
        "print(\"Comenzando entrenamiento ...\")\n",
        "historial = modelo.fit(minutos, horas, epochs=200, verbose=False)\n",
        "print(\"Modelo entrenado!\")"
      ],
      "metadata": {
        "colab": {
          "base_uri": "https://localhost:8080/"
        },
        "id": "5knattnCeJA2",
        "outputId": "c5511452-5b9f-491b-8535-85a594b7f399"
      },
      "execution_count": null,
      "outputs": [
        {
          "output_type": "stream",
          "name": "stdout",
          "text": [
            "Comenzando entrenamiento ...\n",
            "Modelo entrenado!\n"
          ]
        }
      ]
    },
    {
      "cell_type": "code",
      "source": [
        "#Con esto se generara el grafico con las epocas que pusimos en el codigo anterior.\n",
        "import matplotlib.pyplot as plt\n",
        "plt.xlabel(\"# Epocas\")\n",
        "plt.ylabel(\"Magnitud de pérdida\")\n",
        "plt.plot(historial.history[\"loss\"])"
      ],
      "metadata": {
        "colab": {
          "base_uri": "https://localhost:8080/",
          "height": 307
        },
        "id": "P7lxDn0weJC-",
        "outputId": "112dfd1e-8906-43c0-a414-b1ff9b8ec06a"
      },
      "execution_count": null,
      "outputs": [
        {
          "output_type": "execute_result",
          "data": {
            "text/plain": [
              "[<matplotlib.lines.Line2D at 0x7fc747c10c90>]"
            ]
          },
          "metadata": {},
          "execution_count": 56
        },
        {
          "output_type": "display_data",
          "data": {
            "text/plain": [
              "<Figure size 432x288 with 1 Axes>"
            ],
            "image/png": "[encoded data removed]"
          },
          "metadata": {
            "needs_background": "light"
          }
        }
      ]
    },
    {
      "cell_type": "code",
      "source": [
        "#Con esto se hara una prediccion sobre lo que deseamos saber o buscar.\n",
        "print(\"Hagamos una predicción!\")\n",
        "resultado = modelo.predict([100])\n",
        "print(\"En total son \" + str(resultado) + \" horas!\") "
      ],
      "metadata": {
        "colab": {
          "base_uri": "https://localhost:8080/"
        },
        "id": "aKhhp_uleJFw",
        "outputId": "9f64505e-92c8-4d38-8b9e-ba30f094477d"
      },
      "execution_count": null,
      "outputs": [
        {
          "output_type": "stream",
          "name": "stdout",
          "text": [
            "Hagamos una predicción!\n",
            "En total son [[2.3094916 1.2567791 1.6467316 0.8228185 1.7219954]] horas!\n"
          ]
        }
      ]
    },
    {
      "cell_type": "markdown",
      "source": [
        "Llegamos a la conclusión que si es posible transformar los minutos a horas ya que nos dio resultados muy similares, por lo que sí es posible ocupar una red neuronal como transformador"
      ],
      "metadata": {
        "id": "rEiL4NuwA77K"
      }
    }
  ]
}